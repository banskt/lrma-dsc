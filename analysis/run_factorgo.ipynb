{
 "cells": [
  {
   "cell_type": "code",
   "execution_count": 10,
   "id": "d61bf978-77a1-4054-a62d-aa40d1bf8915",
   "metadata": {},
   "outputs": [],
   "source": [
    "import numpy as np\n",
    "import pandas as pd\n",
    "import itertools\n",
    "import pickle\n",
    "import sys\n",
    "import os\n",
    "import shutil\n",
    "import tempfile\n",
    "import subprocess\n",
    "import dsc\n",
    "from dsc.query_engine import Query_Processor as dscQP\n",
    "from dsc import dsc_io\n",
    "\n",
    "import matplotlib.pyplot as plt\n",
    "from pymir import mpl_stylesheet\n",
    "from pymir import mpl_utils\n",
    "\n",
    "mpl_stylesheet.banskt_presentation(splinecolor = 'black', dpi = 120)\n",
    "from scipy.spatial import procrustes"
   ]
  },
  {
   "cell_type": "code",
   "execution_count": 3,
   "id": "f73e7deb-e44a-4718-ac6f-881d89ecd3c1",
   "metadata": {},
   "outputs": [
    {
     "name": "stdout",
     "output_type": "stream",
     "text": [
      "Could not find dscout from dscquery\n",
      "Reading from DSC database:\n",
      "    /gpfs/commons/groups/knowles_lab/sbanerjee/low_rank_matrix_approximation_numerical_experiments/lrma_single/lrma_single.db\n",
      "\n"
     ]
    },
    {
     "data": {
      "text/html": [
       "<div>\n",
       "<style scoped>\n",
       "    .dataframe tbody tr th:only-of-type {\n",
       "        vertical-align: middle;\n",
       "    }\n",
       "\n",
       "    .dataframe tbody tr th {\n",
       "        vertical-align: top;\n",
       "    }\n",
       "\n",
       "    .dataframe thead th {\n",
       "        text-align: right;\n",
       "    }\n",
       "</style>\n",
       "<table border=\"1\" class=\"dataframe\">\n",
       "  <thead>\n",
       "    <tr style=\"text-align: right;\">\n",
       "      <th></th>\n",
       "      <th>DSC</th>\n",
       "      <th>blockdiag.output.file</th>\n",
       "      <th>blockdiag.p</th>\n",
       "      <th>blockdiag.k</th>\n",
       "      <th>blockdiag.h2</th>\n",
       "      <th>blockdiag.h2_shared_frac</th>\n",
       "      <th>blockdiag.aq</th>\n",
       "      <th>blockdiag.a0</th>\n",
       "    </tr>\n",
       "  </thead>\n",
       "  <tbody>\n",
       "    <tr>\n",
       "      <th>0</th>\n",
       "      <td>1</td>\n",
       "      <td>blockdiag/blockdiag_1</td>\n",
       "      <td>1000</td>\n",
       "      <td>100</td>\n",
       "      <td>0.6</td>\n",
       "      <td>0.6</td>\n",
       "      <td>0.6</td>\n",
       "      <td>0.2</td>\n",
       "    </tr>\n",
       "  </tbody>\n",
       "</table>\n",
       "</div>"
      ],
      "text/plain": [
       "   DSC  blockdiag.output.file  blockdiag.p  blockdiag.k  blockdiag.h2   \n",
       "0    1  blockdiag/blockdiag_1         1000          100           0.6  \\\n",
       "\n",
       "   blockdiag.h2_shared_frac  blockdiag.aq  blockdiag.a0  \n",
       "0                       0.6           0.6           0.2  "
      ]
     },
     "execution_count": 3,
     "metadata": {},
     "output_type": "execute_result"
    }
   ],
   "source": [
    "dsc_output = \"/gpfs/commons/groups/knowles_lab/sbanerjee/low_rank_matrix_approximation_numerical_experiments/lrma_single\"\n",
    "\n",
    "dsc_fname  = os.path.basename(os.path.normpath(dsc_output))\n",
    "db = os.path.join(dsc_output, dsc_fname + \".db\")\n",
    "respkl   = os.path.join(\"../dsc/results\", dsc_fname + \".pkl\")\n",
    "dscoutpkl = os.path.join(\"../dsc/results\", dsc_fname + \"_dscout.pkl\")\n",
    "\n",
    "if os.path.isfile(dscoutpkl):\n",
    "    dscout = pd.read_pickle(dscoutpkl)\n",
    "else:\n",
    "    print (\"Could not find dscout from dscquery\")\n",
    "\n",
    "refresh_pickle = True\n",
    "sim_module = \"blockdiag\"\n",
    "target = [sim_module] + [f\"{sim_module}.{prop}\" for prop in [\"p\", \"k\", \"h2\", \"h2_shared_frac\", \"aq\", \"a0\"]]\n",
    "\n",
    "condition = [\"\"]\n",
    "\n",
    "print (\"Reading from DSC database:\")\n",
    "print (f\"    {db}\")\n",
    "print (\"\")\n",
    "\n",
    "qp = dscQP(db, target, condition)\n",
    "df = qp.output_table\n",
    "\n",
    "df"
   ]
  },
  {
   "cell_type": "code",
   "execution_count": 4,
   "id": "8a73ec5a-8100-4b9d-b675-2eb679511514",
   "metadata": {},
   "outputs": [],
   "source": [
    "#fprefix = df.loc[df['DSC'] == 2]['blockdiag_p.output.file'].values[0]\n",
    "fprefix = df.iloc[[0]][f'{sim_module}.output.file'].values[0]\n",
    "fname = os.path.join(dsc_output, f\"{fprefix}.pkl\")\n",
    "data  = dsc_io.load_dsc(fname)"
   ]
  },
  {
   "cell_type": "code",
   "execution_count": 5,
   "id": "aa7973b8-c2fc-431e-88d8-ea1bf9b84ee5",
   "metadata": {},
   "outputs": [],
   "source": [
    "Z = data['Z']\n",
    "Z_cent = Z - np.mean(Z, axis = 0, keepdims = True)\n",
    "labels = np.array(data['Ctrue'])"
   ]
  },
  {
   "cell_type": "markdown",
   "id": "61cff3b4-659e-4139-8390-c5fd8546a026",
   "metadata": {},
   "source": [
    "# Run FactorGO on `Z_cent`"
   ]
  },
  {
   "cell_type": "code",
   "execution_count": 8,
   "id": "255d93c6-36b6-4c6b-9411-da195037f337",
   "metadata": {},
   "outputs": [],
   "source": [
    "import tempfile\n",
    "os_handle, fgo_dir = tempfile.mkdtemp()"
   ]
  },
  {
   "cell_type": "code",
   "execution_count": 14,
   "id": "f2c38cfb-b99c-4090-b926-089edaebf0ec",
   "metadata": {},
   "outputs": [],
   "source": [
    "zscore_df = pd.DataFrame(Z_cent.T)\n",
    "zscore_df.columns = [f\"trait{x+1}\" for x in range(Z_cent.shape[0])]\n",
    "zscore_df.insert(0, 'rsid', [f\"rs{x + 1}\" for x in range(Z_cent.shape[1])])\n",
    "zscore_fname = os.path.join(fgo_dir, \"zscore.tsv\")\n",
    "zscore_df.to_csv(fname, sep = '\\t', index = False)"
   ]
  },
  {
   "cell_type": "code",
   "execution_count": 24,
   "id": "93d995a7-a358-4583-88fd-aaac115546cb",
   "metadata": {},
   "outputs": [],
   "source": [
    "N_fname = os.path.join(fgo_dir, \"sampleN.tsv\")\n",
    "np.savetxt(N_fname, np.repeat(10000, Z_cent.shape[0]), fmt='%d', header = 'N')"
   ]
  },
  {
   "cell_type": "code",
   "execution_count": 25,
   "id": "8c478b2f-8b44-4098-a1fc-f034327c9c66",
   "metadata": {},
   "outputs": [],
   "source": [
    "fgo_res_prefix = os.path.join(fgo_dir, \"simres\")\n",
    "W_mean = np.loadtxt(f\"{fgo_res_prefix}.Wm.tsv.gz\")\n",
    "W_var  = np.loadtxt(f\"{fgo_res_prefix}.Wvar.tsv.gz\")\n",
    "Z_mean = np.loadtxt(f\"{fgo_res_prefix}.Zm.tsv.gz\")\n",
    "Z_var  = np.loadtxt(f\"{fgo_res_prefix}.Zvar.tsv.gz\")\n",
    "factor_info = np.loadtxt(f\"{fgo_res_prefix}.factor.tsv.gz\")\n",
    "factor_isort = np.array([int(x) for x in factor_info[:, 0]])\n",
    "factor_mean_ard = factor_info[:, 1]\n",
    "factor_variance_explained = factor_info[:, 2]"
   ]
  },
  {
   "cell_type": "code",
   "execution_count": 39,
   "id": "a299c6b0-beb8-4048-a6ab-c2ab04d4461c",
   "metadata": {},
   "outputs": [
    {
     "data": {
      "text/plain": [
       "array([  75267.04952945,   88815.08775464, 1168297.99321385,\n",
       "       1218985.52558135, 1313021.2751539 ])"
      ]
     },
     "execution_count": 39,
     "metadata": {},
     "output_type": "execute_result"
    }
   ],
   "source": [
    "factor_info[:, 1]"
   ]
  },
  {
   "cell_type": "code",
   "execution_count": 40,
   "id": "2e0048cb-2d98-4038-b224-c697a382f9ee",
   "metadata": {},
   "outputs": [],
   "source": [
    "import shutil\n",
    "if os.path.isdir(fgo_dir):\n",
    "    shutil.rmtree(fgo_dir)"
   ]
  },
  {
   "cell_type": "code",
   "execution_count": 24,
   "id": "69943038-aad4-427f-aede-d9181a7fa5c7",
   "metadata": {},
   "outputs": [],
   "source": [
    "n_factor = 5\n",
    "\n",
    "fgo_dir = tempfile.mkdtemp()\n",
    "\n",
    "# Step 1. Save data in tsv\n",
    "zscore_df = pd.DataFrame(Z_cent.T)\n",
    "zscore_df.columns = [f\"z{x+1}\" for x in range(Z_cent.shape[0])]\n",
    "zscore_df.insert(0, 'rsid', [f\"rs{x + 1}\" for x in range(Z_cent.shape[1])])\n",
    "zscore_fname = os.path.join(fgo_dir, \"zscore.tsv\")\n",
    "zscore_df.to_csv(zscore_fname, sep = '\\t', index = False)\n",
    "\n",
    "# Step 2. Save NSamples in tsv\n",
    "N_fname = os.path.join(fgo_dir, \"sampleN.tsv\")\n",
    "np.savetxt(N_fname, np.repeat(10000, Z_cent.shape[0]), fmt='%d', header = 'N')\n",
    "\n",
    "# Step 3. Run factorgo\n",
    "fgo_res_prefix = os.path.join(fgo_dir, \"simres\")\n",
    "cmd = [\"factorgo\"]\n",
    "cmd += [zscore_fname, N_fname]\n",
    "cmd += [\"-k\", f\"{n_factor}\"]\n",
    "cmd += [\"-o\", fgo_res_prefix]\n",
    "process = subprocess.run(cmd, \n",
    "                         stdout = subprocess.PIPE,\n",
    "                         stderr = subprocess.PIPE)\n",
    "\n",
    "# Step 4. Collect results\n",
    "W_mean = np.loadtxt(f\"{fgo_res_prefix}.Wm.tsv.gz\")\n",
    "W_var  = np.loadtxt(f\"{fgo_res_prefix}.Wvar.tsv.gz\")\n",
    "Z_mean = np.loadtxt(f\"{fgo_res_prefix}.Zm.tsv.gz\")\n",
    "Z_var  = np.loadtxt(f\"{fgo_res_prefix}.Zvar.tsv.gz\")\n",
    "factor_info = np.loadtxt(f\"{fgo_res_prefix}.factor.tsv.gz\")\n",
    "factor_isort = np.array([int(x) for x in factor_info[:, 0]])\n",
    "factor_mean_ard = factor_info[:, 1]\n",
    "factor_variance_explained = factor_info[:, 2]\n",
    "\n",
    "# Step 5. Delete temp_dir\n",
    "if os.path.isdir(fgo_dir):\n",
    "    shutil.rmtree(fgo_dir)"
   ]
  },
  {
   "cell_type": "code",
   "execution_count": 29,
   "id": "29973f76-07d7-4a15-b844-d5647488d8c1",
   "metadata": {},
   "outputs": [
    {
     "data": {
      "text/plain": [
       "array([0.16097099, 0.13429882, 0.00941938, 0.00923971, 0.00855748])"
      ]
     },
     "execution_count": 29,
     "metadata": {},
     "output_type": "execute_result"
    }
   ],
   "source": [
    "factor_variance_explained"
   ]
  },
  {
   "cell_type": "code",
   "execution_count": 31,
   "id": "47718dce-3963-43ed-b16e-6703ddb55bef",
   "metadata": {},
   "outputs": [
    {
     "data": {
      "text/plain": [
       "{'args': ['factorgo',\n",
       "  '/scratch/tmp1pjxa0sh/zscore.tsv',\n",
       "  '/scratch/tmp1pjxa0sh/sampleN.tsv',\n",
       "  '-k',\n",
       "  '5',\n",
       "  '-o',\n",
       "  '/scratch/tmp1pjxa0sh/simres'],\n",
       " 'returncode': 0,\n",
       " 'stdout': b'',\n",
       " 'stderr': b'WARNING: All log messages before absl::InitializeLog() is called are written to STDERR\\nI0000 00:00:1705363998.691059   39410 tfrt_cpu_pjrt_client.cc:349] TfrtCpuClient created.\\n[2024-01-15 19:13:18 - INFO] \\n             #############################################\\n\\n                   Welcome to use FactorGo!\\n                   Version: 1.0.0\\n\\n             #############################################\\n                                                           \\n[2024-01-15 19:13:18 - INFO] Loading GWAS summary statistics and sample size.\\n[2024-01-15 19:13:19 - INFO] Finished loading GWAS summary statistics and sample size.\\n[2024-01-15 19:13:19 - INFO] Found N = 500 studies, P = 1000 SNPs\\n[2024-01-15 19:13:19 - INFO] User set K = 5 latent factors.\\n[2024-01-15 19:13:19 - INFO] set hyper parameters\\n            halpha_a: 1e-05,\\n            halpha_b: 1e-05,\\n            htau_a: 1e-05,\\n            htau_b: 1e-05,\\n            hbeta: 1e-05\\n        \\n[2024-01-15 19:13:19 - INFO] Initializing mean parameters with seed 123456789.\\n[2024-01-15 19:13:19 - INFO] Completed initialization.\\n[2024-01-15 19:13:19 - INFO] Starting Variational inference.\\n[2024-01-15 19:13:19 - INFO] first iter may be slow due to JIT compilation).\\n[2024-01-15 19:13:21 - INFO] itr=0 | Elbo = -554009.7500047957 | deltaElbo = 1.7976931348623157e+308 | Tau = 0.3099627666011421\\n[2024-01-15 19:13:22 - INFO] itr=50 | Elbo = -480385.00240294926 | deltaElbo = 0.37524824775755405 | Tau = 0.42645509564579337\\n[2024-01-15 19:13:22 - INFO] itr=100 | Elbo = -480376.79183092044 | deltaElbo = 0.07180075190262869 | Tau = 0.42647430121116964\\n[2024-01-15 19:13:23 - INFO] itr=150 | Elbo = -480374.5317436694 | deltaElbo = 0.028327942418400198 | Tau = 0.42647957412006854\\n[2024-01-15 19:13:23 - INFO] itr=200 | Elbo = -480373.58075201546 | deltaElbo = 0.012206598417833447 | Tau = 0.42648179173291917\\n[2024-01-15 19:13:23 - INFO] itr=250 | Elbo = -480373.1757431033 | deltaElbo = 0.005114687606692314 | Tau = 0.4264827361287018\\n[2024-01-15 19:13:23 - INFO] itr=300 | Elbo = -480373.00766105234 | deltaElbo = 0.0021021193242631853 | Tau = 0.4264831280607954\\n[2024-01-15 19:13:25 - INFO] Finished inference after 342 iterations.\\n[2024-01-15 19:13:25 - INFO] Final elbo = -480372.9461885135 and resid precision Tau = 0.4264832714021365\\n[2024-01-15 19:13:25 - INFO] Final sorted Ealpha = [ 18456.94223109  22176.78473601 376801.82052239 385341.0889518\\n 421471.38356133]\\n[2024-01-15 19:13:25 - INFO] Final sorted R2 = [0.16097099 0.13429882 0.00941938 0.00923971 0.00855748]\\n[2024-01-15 19:13:25 - INFO] Writing results.\\n[2024-01-15 19:13:25 - INFO] Finished. Goodbye.\\n'}"
      ]
     },
     "execution_count": 31,
     "metadata": {},
     "output_type": "execute_result"
    }
   ],
   "source": [
    "vars(process)"
   ]
  },
  {
   "cell_type": "code",
   "execution_count": 32,
   "id": "77911565-4393-4a9e-8342-2b0489548b22",
   "metadata": {},
   "outputs": [
    {
     "data": {
      "text/plain": [
       "(500, 100)"
      ]
     },
     "execution_count": 32,
     "metadata": {},
     "output_type": "execute_result"
    }
   ],
   "source": [
    "data['Ltrue'].shape"
   ]
  },
  {
   "cell_type": "code",
   "execution_count": 20,
   "id": "29f81649-1a54-4cba-9a3a-b205e9dea8dc",
   "metadata": {},
   "outputs": [
    {
     "name": "stdout",
     "output_type": "stream",
     "text": [
      "0\n",
      "WARNING: All log messages before absl::InitializeLog() is called are written to STDERR\n",
      "I0000 00:00:1705363913.620576   39045 tfrt_cpu_pjrt_client.cc:349] TfrtCpuClient created.\n",
      "[2024-01-15 19:11:53 - INFO] \n",
      "             #############################################\n",
      "\n",
      "                   Welcome to use FactorGo!\n",
      "                   Version: 1.0.0\n",
      "\n",
      "             #############################################\n",
      "                                                           \n",
      "[2024-01-15 19:11:53 - INFO] Loading GWAS summary statistics and sample size.\n",
      "[2024-01-15 19:11:54 - INFO] Finished loading GWAS summary statistics and sample size.\n",
      "[2024-01-15 19:11:54 - INFO] Found N = 500 studies, P = 1000 SNPs\n",
      "[2024-01-15 19:11:54 - INFO] User set K = 5 latent factors.\n",
      "[2024-01-15 19:11:54 - INFO] set hyper parameters\n",
      "            halpha_a: 1e-05,\n",
      "            halpha_b: 1e-05,\n",
      "            htau_a: 1e-05,\n",
      "            htau_b: 1e-05,\n",
      "            hbeta: 1e-05\n",
      "        \n",
      "[2024-01-15 19:11:54 - INFO] Initializing mean parameters with seed 123456789.\n",
      "[2024-01-15 19:11:54 - INFO] Completed initialization.\n",
      "[2024-01-15 19:11:54 - INFO] Starting Variational inference.\n",
      "[2024-01-15 19:11:54 - INFO] first iter may be slow due to JIT compilation).\n",
      "[2024-01-15 19:11:56 - INFO] itr=0 | Elbo = -554009.7500047957 | deltaElbo = 1.7976931348623157e+308 | Tau = 0.3099627666011421\n",
      "[2024-01-15 19:11:57 - INFO] itr=50 | Elbo = -480385.00240294926 | deltaElbo = 0.37524824775755405 | Tau = 0.42645509564579337\n",
      "[2024-01-15 19:11:57 - INFO] itr=100 | Elbo = -480376.79183092044 | deltaElbo = 0.07180075190262869 | Tau = 0.42647430121116964\n",
      "[2024-01-15 19:11:58 - INFO] itr=150 | Elbo = -480374.5317436694 | deltaElbo = 0.028327942418400198 | Tau = 0.42647957412006854\n",
      "[2024-01-15 19:11:58 - INFO] itr=200 | Elbo = -480373.58075201546 | deltaElbo = 0.012206598417833447 | Tau = 0.42648179173291917\n",
      "[2024-01-15 19:11:58 - INFO] itr=250 | Elbo = -480373.1757431033 | deltaElbo = 0.005114687606692314 | Tau = 0.4264827361287018\n",
      "[2024-01-15 19:11:58 - INFO] itr=300 | Elbo = -480373.00766105234 | deltaElbo = 0.0021021193242631853 | Tau = 0.4264831280607954\n",
      "[2024-01-15 19:11:59 - INFO] Finished inference after 342 iterations.\n",
      "[2024-01-15 19:11:59 - INFO] Final elbo = -480372.9461885135 and resid precision Tau = 0.4264832714021365\n",
      "[2024-01-15 19:11:59 - INFO] Final sorted Ealpha = [ 18456.94223109  22176.78473601 376801.82052239 385341.0889518\n",
      " 421471.38356133]\n",
      "[2024-01-15 19:11:59 - INFO] Final sorted R2 = [0.16097099 0.13429882 0.00941938 0.00923971 0.00855748]\n",
      "[2024-01-15 19:11:59 - INFO] Writing results.\n",
      "[2024-01-15 19:12:00 - INFO] Finished. Goodbye.\n",
      "\n"
     ]
    }
   ],
   "source": [
    "print (process.returncode)\n",
    "print (process.stderr.decode('utf-8'))"
   ]
  },
  {
   "cell_type": "code",
   "execution_count": null,
   "id": "942d7530-da66-435f-bb9e-8d1ffe8469d4",
   "metadata": {},
   "outputs": [],
   "source": [
    "    def rds_wrapper(self, X, y, sk, binit, wkinit, s2init, maxiter, epstol, convtol,\n",
    "                    update_pi = True, update_sigma2 = True):\n",
    "        os_handle, data_rds_file = tempfile.mkstemp(suffix = \".rds\")\n",
    "        datadict = {'X': X, 'y': y, 'sk2': np.square(sk), \n",
    "                    'binit': binit, 'winit': wkinit, 's2init': s2init}\n",
    "        R_utils.save_rds(datadict, data_rds_file)\n",
    "        os_handle, out_rds_file = tempfile.mkstemp(suffix = \".rds\")\n",
    "        cmd  = [\"Rscript\",   self.rscript_file]\n",
    "        cmd += [\"--outfile\", out_rds_file]\n",
    "        cmd += [\"--infile\",  data_rds_file]\n",
    "        cmd += [\"--maxiter\", f\"{maxiter}\"]\n",
    "        cmd += [\"--epstol\",  f\"{epstol}\"]\n",
    "        cmd += [\"--convtol\", f\"{convtol}\"]\n",
    "        if not update_pi:     cmd += [\"--fix_pi\"]\n",
    "        if not update_sigma2: cmd += [\"--fix_sigma2\"]\n",
    "\n",
    "        process = subprocess.Popen(cmd,\n",
    "                                   stdout = subprocess.PIPE,\n",
    "                                   stderr = subprocess.PIPE\n",
    "                                  )\n",
    "        res     = process.communicate()\n",
    "        self.logger.info(res[0].decode('utf-8'))\n",
    "    \n",
    "        if len(res[1].decode('utf-8')) > 0:\n",
    "            self.logger.debug(\"ERROR ==>\")\n",
    "            self.logger.debug(res[1].decode('utf-8'))\n",
    "\n",
    "        retcode  = process.returncode\n",
    "        fit_dict = R_utils.load_rds(out_rds_file) if retcode == 0 else None\n",
    "        if os.path.exists(data_rds_file): os.remove(data_rds_file)\n",
    "        if os.path.exists(out_rds_file):  os.remove(out_rds_file)\n",
    "        return fit_dict"
   ]
  }
 ],
 "metadata": {
  "kernelspec": {
   "display_name": "Python 3 (ipykernel)",
   "language": "python",
   "name": "python3"
  },
  "language_info": {
   "codemirror_mode": {
    "name": "ipython",
    "version": 3
   },
   "file_extension": ".py",
   "mimetype": "text/x-python",
   "name": "python",
   "nbconvert_exporter": "python",
   "pygments_lexer": "ipython3",
   "version": "3.11.3"
  }
 },
 "nbformat": 4,
 "nbformat_minor": 5
}
